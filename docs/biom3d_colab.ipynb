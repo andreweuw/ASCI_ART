{
  "cells": [
    {
      "cell_type": "markdown",
      "metadata": {
        "id": "view-in-github",
        "colab_type": "text"
      },
      "source": [
        "<a href=\"https://colab.research.google.com/github/andreweuw/ASCI_ART/blob/master/docs/biom3d_colab.ipynb\" target=\"_parent\"><img src=\"https://colab.research.google.com/assets/colab-badge.svg\" alt=\"Open In Colab\"/></a>"
      ]
    },
    {
      "cell_type": "code",
      "execution_count": 1,
      "metadata": {
        "cellView": "form",
        "id": "P8jnH3QZH9L4",
        "outputId": "61413f89-b31f-4116-e6dd-ce51628a8281",
        "colab": {
          "base_uri": "https://localhost:8080/"
        }
      },
      "outputs": [
        {
          "output_type": "stream",
          "name": "stdout",
          "text": [
            "Wed Aug  6 18:53:23 2025       \n",
            "+-----------------------------------------------------------------------------------------+\n",
            "| NVIDIA-SMI 550.54.15              Driver Version: 550.54.15      CUDA Version: 12.4     |\n",
            "|-----------------------------------------+------------------------+----------------------+\n",
            "| GPU  Name                 Persistence-M | Bus-Id          Disp.A | Volatile Uncorr. ECC |\n",
            "| Fan  Temp   Perf          Pwr:Usage/Cap |           Memory-Usage | GPU-Util  Compute M. |\n",
            "|                                         |                        |               MIG M. |\n",
            "|=========================================+========================+======================|\n",
            "|   0  Tesla T4                       Off |   00000000:00:04.0 Off |                    0 |\n",
            "| N/A   48C    P8             10W /   70W |       0MiB /  15360MiB |      0%      Default |\n",
            "|                                         |                        |                  N/A |\n",
            "+-----------------------------------------+------------------------+----------------------+\n",
            "                                                                                         \n",
            "+-----------------------------------------------------------------------------------------+\n",
            "| Processes:                                                                              |\n",
            "|  GPU   GI   CI        PID   Type   Process name                              GPU Memory |\n",
            "|        ID   ID                                                               Usage      |\n",
            "|=========================================================================================|\n",
            "|  No running processes found                                                             |\n",
            "+-----------------------------------------------------------------------------------------+\n"
          ]
        }
      ],
      "source": [
        "#@markdown ## First check that your Runtime is in GPU mode (you can run this cell to do so)\n",
        "\n",
        "#@markdown If not, go to `Runtime` > `Change runtime type` > `Hardware accelerator` > `GPU`\n",
        "\n",
        "!nvidia-smi"
      ]
    },
    {
      "cell_type": "code",
      "execution_count": 2,
      "metadata": {
        "id": "NhwL5qt9fdg5",
        "outputId": "71ac5bc2-7ea9-4154-ea4b-9e228c20115c",
        "colab": {
          "base_uri": "https://localhost:8080/"
        }
      },
      "outputs": [
        {
          "output_type": "stream",
          "name": "stdout",
          "text": [
            "Collecting biom3d==0.0.46\n",
            "  Downloading biom3d-0.0.46-py3-none-any.whl.metadata (7.0 kB)\n",
            "Collecting torchio==0.20.5\n",
            "  Downloading torchio-0.20.5-py3-none-any.whl.metadata (50 kB)\n",
            "\u001b[2K     \u001b[90m━━━━━━━━━━━━━━━━━━━━━━━━━━━━━━━━━━━━━━━━\u001b[0m \u001b[32m50.1/50.1 kB\u001b[0m \u001b[31m4.7 MB/s\u001b[0m eta \u001b[36m0:00:00\u001b[0m\n",
            "\u001b[?25hCollecting deprecated\n",
            "  Downloading Deprecated-1.2.18-py2.py3-none-any.whl.metadata (5.7 kB)\n",
            "Downloading biom3d-0.0.46-py3-none-any.whl (207 kB)\n",
            "\u001b[2K   \u001b[90m━━━━━━━━━━━━━━━━━━━━━━━━━━━━━━━━━━━━━━━━\u001b[0m \u001b[32m207.9/207.9 kB\u001b[0m \u001b[31m15.7 MB/s\u001b[0m eta \u001b[36m0:00:00\u001b[0m\n",
            "\u001b[?25hDownloading torchio-0.20.5-py3-none-any.whl (175 kB)\n",
            "\u001b[2K   \u001b[90m━━━━━━━━━━━━━━━━━━━━━━━━━━━━━━━━━━━━━━━━\u001b[0m \u001b[32m175.8/175.8 kB\u001b[0m \u001b[31m16.0 MB/s\u001b[0m eta \u001b[36m0:00:00\u001b[0m\n",
            "\u001b[?25hDownloading Deprecated-1.2.18-py2.py3-none-any.whl (10.0 kB)\n",
            "Installing collected packages: torchio, deprecated, biom3d\n",
            "Successfully installed biom3d-0.0.46 deprecated-1.2.18 torchio-0.20.5\n",
            "Collecting SimpleITK\n",
            "  Downloading simpleitk-2.5.2-cp311-abi3-manylinux2014_x86_64.manylinux_2_17_x86_64.whl.metadata (7.2 kB)\n",
            "Collecting paramiko\n",
            "  Downloading paramiko-4.0.0-py3-none-any.whl.metadata (3.9 kB)\n",
            "Collecting netcat\n",
            "  Downloading netcat-0.0.1a0-py2.py3-none-any.whl.metadata (6.7 kB)\n",
            "Collecting appdirs\n",
            "  Downloading appdirs-1.4.4-py2.py3-none-any.whl.metadata (9.0 kB)\n",
            "Collecting bcrypt>=3.2 (from paramiko)\n",
            "  Downloading bcrypt-4.3.0-cp39-abi3-manylinux_2_34_x86_64.whl.metadata (10 kB)\n",
            "Requirement already satisfied: cryptography>=3.3 in /usr/local/lib/python3.11/dist-packages (from paramiko) (43.0.3)\n",
            "Collecting invoke>=2.0 (from paramiko)\n",
            "  Downloading invoke-2.2.0-py3-none-any.whl.metadata (3.3 kB)\n",
            "Collecting pynacl>=1.5 (from paramiko)\n",
            "  Downloading PyNaCl-1.5.0-cp36-abi3-manylinux_2_17_x86_64.manylinux2014_x86_64.manylinux_2_24_x86_64.whl.metadata (8.6 kB)\n",
            "Requirement already satisfied: cffi>=1.12 in /usr/local/lib/python3.11/dist-packages (from cryptography>=3.3->paramiko) (1.17.1)\n",
            "Requirement already satisfied: pycparser in /usr/local/lib/python3.11/dist-packages (from cffi>=1.12->cryptography>=3.3->paramiko) (2.22)\n",
            "Downloading simpleitk-2.5.2-cp311-abi3-manylinux2014_x86_64.manylinux_2_17_x86_64.whl (52.6 MB)\n",
            "\u001b[2K   \u001b[90m━━━━━━━━━━━━━━━━━━━━━━━━━━━━━━━━━━━━━━━━\u001b[0m \u001b[32m52.6/52.6 MB\u001b[0m \u001b[31m14.6 MB/s\u001b[0m eta \u001b[36m0:00:00\u001b[0m\n",
            "\u001b[?25hDownloading paramiko-4.0.0-py3-none-any.whl (223 kB)\n",
            "\u001b[2K   \u001b[90m━━━━━━━━━━━━━━━━━━━━━━━━━━━━━━━━━━━━━━━━\u001b[0m \u001b[32m223.9/223.9 kB\u001b[0m \u001b[31m21.1 MB/s\u001b[0m eta \u001b[36m0:00:00\u001b[0m\n",
            "\u001b[?25hDownloading netcat-0.0.1a0-py2.py3-none-any.whl (8.3 kB)\n",
            "Downloading appdirs-1.4.4-py2.py3-none-any.whl (9.6 kB)\n",
            "Downloading bcrypt-4.3.0-cp39-abi3-manylinux_2_34_x86_64.whl (284 kB)\n",
            "\u001b[2K   \u001b[90m━━━━━━━━━━━━━━━━━━━━━━━━━━━━━━━━━━━━━━━━\u001b[0m \u001b[32m284.2/284.2 kB\u001b[0m \u001b[31m24.4 MB/s\u001b[0m eta \u001b[36m0:00:00\u001b[0m\n",
            "\u001b[?25hDownloading invoke-2.2.0-py3-none-any.whl (160 kB)\n",
            "\u001b[2K   \u001b[90m━━━━━━━━━━━━━━━━━━━━━━━━━━━━━━━━━━━━━━━━\u001b[0m \u001b[32m160.3/160.3 kB\u001b[0m \u001b[31m17.3 MB/s\u001b[0m eta \u001b[36m0:00:00\u001b[0m\n",
            "\u001b[?25hDownloading PyNaCl-1.5.0-cp36-abi3-manylinux_2_17_x86_64.manylinux2014_x86_64.manylinux_2_24_x86_64.whl (856 kB)\n",
            "\u001b[2K   \u001b[90m━━━━━━━━━━━━━━━━━━━━━━━━━━━━━━━━━━━━━━━━\u001b[0m \u001b[32m856.7/856.7 kB\u001b[0m \u001b[31m67.5 MB/s\u001b[0m eta \u001b[36m0:00:00\u001b[0m\n",
            "\u001b[?25hInstalling collected packages: SimpleITK, netcat, appdirs, invoke, bcrypt, pynacl, paramiko\n",
            "Successfully installed SimpleITK-2.5.2 appdirs-1.4.4 bcrypt-4.3.0 invoke-2.2.0 netcat-0.0.1a0 paramiko-4.0.0 pynacl-1.5.0\n"
          ]
        }
      ],
      "source": [
        "#@markdown ##Install Biom3d\n",
        "# !pip3 uninstall torch -y # bug fix, compatibility problem between torchIO and pytorch>=2.3\n",
        "# !pip3 install torch==1.12.1+cu113 torchvision==0.13.1+cu113 torchaudio==0.12.1 --extra-index-url https://download.pytorch.org/whl/cu113\n",
        "!pip3 install biom3d==0.0.46 torchio==0.20.5 deprecated --no-deps\n",
        "!pip3 install SimpleITK paramiko netcat appdirs"
      ]
    },
    {
      "cell_type": "code",
      "execution_count": 3,
      "metadata": {
        "id": "CMY1koGWd8NP"
      },
      "outputs": [],
      "source": [
        "#@markdown ##Import the necessary Python library\n",
        "import os\n",
        "import biom3d\n",
        "from biom3d.train import train\n",
        "from biom3d.pred import pred\n",
        "from biom3d.eval import eval"
      ]
    },
    {
      "cell_type": "code",
      "execution_count": 4,
      "metadata": {
        "id": "Relk7WNAkTzM",
        "outputId": "faea3283-8c9b-4552-c0f0-e67b443932ec",
        "colab": {
          "base_uri": "https://localhost:8080/"
        }
      },
      "outputs": [
        {
          "output_type": "stream",
          "name": "stdout",
          "text": [
            "Mounted at /content/gdrive\n"
          ]
        }
      ],
      "source": [
        "#@markdown ##Mount your Google drive\n",
        "\n",
        "from google.colab import drive\n",
        "drive.mount('/content/gdrive')"
      ]
    },
    {
      "cell_type": "code",
      "execution_count": null,
      "metadata": {
        "id": "3RPq3yPxlNmj"
      },
      "outputs": [],
      "source": [
        "#@markdown ## Define input and output folders\n",
        "\n",
        "#@markdown **Where training data will be saved?** This will include two folders: the config folder (containing configuration files) and the logs folder (containing the model folders)\n",
        "\n",
        "biom3d_dir = '/content/gdrive/MyDrive/biom3d'#@param {type:\"string\"}\n",
        "model_name = \"unet_default\" #@param {type:\"string\"}\n",
        "\n",
        "#@markdown **Where are your images and masks?**\n",
        "img_dir = \"\" #@param {type:\"string\"}\n",
        "msk_dir = \"\" #@param {type:\"string\"}\n",
        "\n",
        "#@markdown **How many classes are there in your annotations?**\n",
        "\n",
        "num_classes = 1 #@param {type:\"number\"}\n",
        "\n",
        "#@markdown **How long would you like to train your model?**\n",
        "num_epochs = 2 #@param {type:\"number\"}"
      ]
    },
    {
      "cell_type": "code",
      "execution_count": null,
      "metadata": {
        "id": "EkLs_MoFtnLv"
      },
      "outputs": [],
      "source": [
        "#@markdown ## Preprocess your data before training\n",
        "config_path = biom3d.preprocess.auto_config_preprocess(\n",
        "    img_dir=img_dir,\n",
        "    msk_dir=msk_dir,\n",
        "    num_classes=num_classes,\n",
        "    desc=model_name,\n",
        "    config_dir=os.path.join(biom3d_dir, \"configs/\"),\n",
        "    base_config=None,\n",
        "    ct_norm=False,\n",
        "    num_epochs=num_epochs,\n",
        "    num_workers=2,\n",
        "    logs_dir=os.path.join(biom3d_dir, \"logs/\"),\n",
        ")"
      ]
    },
    {
      "cell_type": "code",
      "execution_count": null,
      "metadata": {
        "cellView": "form",
        "id": "fn639Efzrfwe"
      },
      "outputs": [],
      "source": [
        "#@markdown ## Start the training\n",
        "\n",
        "#@markdown If you want to use of different configuration file or use an existing one, complete the following field. **Leave this field empty if you want to use the config file obtained during the preprocessing.**\n",
        "\n",
        "custom_config_path = \"\" #@param {type:\"string\"}\n",
        "\n",
        "if len(custom_config_path) > 0:\n",
        "  config_path = custom_config_path\n",
        "\n",
        "print(\"We will the following configuration file for training:\", config_path)\n",
        "builder = train(config=config_path)"
      ]
    },
    {
      "cell_type": "code",
      "execution_count": null,
      "metadata": {
        "id": "4eKiLPQnsokH",
        "outputId": "f7c6f1ea-62f9-40f8-f8fb-e0526712ea5d",
        "colab": {
          "base_uri": "https://localhost:8080/"
        }
      },
      "outputs": [
        {
          "output_type": "stream",
          "name": "stdout",
          "text": [
            "UNet(\n",
            "  (encoder): VGGEncoder(\n",
            "    (layers): ModuleList(\n",
            "      (0): Sequential(\n",
            "        (0): EncoderBlock(\n",
            "          (conv1): Conv3d(1, 32, kernel_size=(3, 3, 3), stride=(1, 1, 1), padding=(1, 1, 1), bias=False)\n",
            "          (bn1): InstanceNorm3d(32, eps=1e-05, momentum=0.1, affine=True, track_running_stats=False)\n",
            "          (conv2): Conv3d(32, 32, kernel_size=(3, 3, 3), stride=(1, 1, 1), padding=(1, 1, 1), bias=False)\n",
            "          (bn2): InstanceNorm3d(32, eps=1e-05, momentum=0.1, affine=True, track_running_stats=False)\n",
            "        )\n",
            "      )\n",
            "      (1): Sequential(\n",
            "        (0): EncoderBlock(\n",
            "          (conv1): Conv3d(32, 64, kernel_size=(3, 3, 3), stride=(1, 2, 2), padding=(1, 1, 1), bias=False)\n",
            "          (bn1): InstanceNorm3d(64, eps=1e-05, momentum=0.1, affine=True, track_running_stats=False)\n",
            "          (conv2): Conv3d(64, 64, kernel_size=(3, 3, 3), stride=(1, 1, 1), padding=(1, 1, 1), bias=False)\n",
            "          (bn2): InstanceNorm3d(64, eps=1e-05, momentum=0.1, affine=True, track_running_stats=False)\n",
            "        )\n",
            "      )\n",
            "      (2): Sequential(\n",
            "        (0): EncoderBlock(\n",
            "          (conv1): Conv3d(64, 128, kernel_size=(3, 3, 3), stride=(2, 2, 2), padding=(1, 1, 1), bias=False)\n",
            "          (bn1): InstanceNorm3d(128, eps=1e-05, momentum=0.1, affine=True, track_running_stats=False)\n",
            "          (conv2): Conv3d(128, 128, kernel_size=(3, 3, 3), stride=(1, 1, 1), padding=(1, 1, 1), bias=False)\n",
            "          (bn2): InstanceNorm3d(128, eps=1e-05, momentum=0.1, affine=True, track_running_stats=False)\n",
            "        )\n",
            "      )\n",
            "      (3): Sequential(\n",
            "        (0): EncoderBlock(\n",
            "          (conv1): Conv3d(128, 256, kernel_size=(3, 3, 3), stride=(2, 2, 2), padding=(1, 1, 1), bias=False)\n",
            "          (bn1): InstanceNorm3d(256, eps=1e-05, momentum=0.1, affine=True, track_running_stats=False)\n",
            "          (conv2): Conv3d(256, 256, kernel_size=(3, 3, 3), stride=(1, 1, 1), padding=(1, 1, 1), bias=False)\n",
            "          (bn2): InstanceNorm3d(256, eps=1e-05, momentum=0.1, affine=True, track_running_stats=False)\n",
            "        )\n",
            "      )\n",
            "      (4): Sequential(\n",
            "        (0): EncoderBlock(\n",
            "          (conv1): Conv3d(256, 320, kernel_size=(3, 3, 3), stride=(1, 2, 2), padding=(1, 1, 1), bias=False)\n",
            "          (bn1): InstanceNorm3d(320, eps=1e-05, momentum=0.1, affine=True, track_running_stats=False)\n",
            "          (conv2): Conv3d(320, 320, kernel_size=(3, 3, 3), stride=(1, 1, 1), padding=(1, 1, 1), bias=False)\n",
            "          (bn2): InstanceNorm3d(320, eps=1e-05, momentum=0.1, affine=True, track_running_stats=False)\n",
            "        )\n",
            "      )\n",
            "      (5): Sequential(\n",
            "        (0): EncoderBlock(\n",
            "          (conv1): Conv3d(320, 320, kernel_size=(3, 3, 3), stride=(1, 2, 2), padding=(1, 1, 1), bias=False)\n",
            "          (bn1): InstanceNorm3d(320, eps=1e-05, momentum=0.1, affine=True, track_running_stats=False)\n",
            "          (conv2): Conv3d(320, 320, kernel_size=(3, 3, 3), stride=(1, 1, 1), padding=(1, 1, 1), bias=False)\n",
            "          (bn2): InstanceNorm3d(320, eps=1e-05, momentum=0.1, affine=True, track_running_stats=False)\n",
            "        )\n",
            "      )\n",
            "    )\n",
            "  )\n",
            "  (decoder): VGGDecoder(\n",
            "    (layers): ModuleList(\n",
            "      (0): Sequential(\n",
            "        (0): DecoderBlock(\n",
            "          (up): ConvTranspose3d(320, 320, kernel_size=(1, 2, 2), stride=(1, 2, 2), bias=False)\n",
            "          (encoder_block): EncoderBlock(\n",
            "            (conv1): Conv3d(640, 320, kernel_size=(3, 3, 3), stride=(1, 1, 1), padding=(1, 1, 1), bias=False)\n",
            "            (bn1): InstanceNorm3d(320, eps=1e-05, momentum=0.1, affine=True, track_running_stats=False)\n",
            "            (conv2): Conv3d(320, 320, kernel_size=(3, 3, 3), stride=(1, 1, 1), padding=(1, 1, 1), bias=False)\n",
            "            (bn2): InstanceNorm3d(320, eps=1e-05, momentum=0.1, affine=True, track_running_stats=False)\n",
            "          )\n",
            "        )\n",
            "      )\n",
            "      (1): Sequential(\n",
            "        (0): DecoderBlock(\n",
            "          (up): ConvTranspose3d(320, 256, kernel_size=(1, 2, 2), stride=(1, 2, 2), bias=False)\n",
            "          (encoder_block): EncoderBlock(\n",
            "            (conv1): Conv3d(512, 256, kernel_size=(3, 3, 3), stride=(1, 1, 1), padding=(1, 1, 1), bias=False)\n",
            "            (bn1): InstanceNorm3d(256, eps=1e-05, momentum=0.1, affine=True, track_running_stats=False)\n",
            "            (conv2): Conv3d(256, 256, kernel_size=(3, 3, 3), stride=(1, 1, 1), padding=(1, 1, 1), bias=False)\n",
            "            (bn2): InstanceNorm3d(256, eps=1e-05, momentum=0.1, affine=True, track_running_stats=False)\n",
            "          )\n",
            "        )\n",
            "      )\n",
            "      (2): Sequential(\n",
            "        (0): DecoderBlock(\n",
            "          (up): ConvTranspose3d(256, 128, kernel_size=(2, 2, 2), stride=(2, 2, 2), bias=False)\n",
            "          (encoder_block): EncoderBlock(\n",
            "            (conv1): Conv3d(256, 128, kernel_size=(3, 3, 3), stride=(1, 1, 1), padding=(1, 1, 1), bias=False)\n",
            "            (bn1): InstanceNorm3d(128, eps=1e-05, momentum=0.1, affine=True, track_running_stats=False)\n",
            "            (conv2): Conv3d(128, 128, kernel_size=(3, 3, 3), stride=(1, 1, 1), padding=(1, 1, 1), bias=False)\n",
            "            (bn2): InstanceNorm3d(128, eps=1e-05, momentum=0.1, affine=True, track_running_stats=False)\n",
            "          )\n",
            "        )\n",
            "      )\n",
            "      (3): Sequential(\n",
            "        (0): DecoderBlock(\n",
            "          (up): ConvTranspose3d(128, 64, kernel_size=(2, 2, 2), stride=(2, 2, 2), bias=False)\n",
            "          (encoder_block): EncoderBlock(\n",
            "            (conv1): Conv3d(128, 64, kernel_size=(3, 3, 3), stride=(1, 1, 1), padding=(1, 1, 1), bias=False)\n",
            "            (bn1): InstanceNorm3d(64, eps=1e-05, momentum=0.1, affine=True, track_running_stats=False)\n",
            "            (conv2): Conv3d(64, 64, kernel_size=(3, 3, 3), stride=(1, 1, 1), padding=(1, 1, 1), bias=False)\n",
            "            (bn2): InstanceNorm3d(64, eps=1e-05, momentum=0.1, affine=True, track_running_stats=False)\n",
            "          )\n",
            "        )\n",
            "      )\n",
            "      (4): Sequential(\n",
            "        (0): DecoderBlock(\n",
            "          (up): ConvTranspose3d(64, 32, kernel_size=(1, 2, 2), stride=(1, 2, 2), bias=False)\n",
            "          (encoder_block): EncoderBlock(\n",
            "            (conv1): Conv3d(64, 32, kernel_size=(3, 3, 3), stride=(1, 1, 1), padding=(1, 1, 1), bias=False)\n",
            "            (bn1): InstanceNorm3d(32, eps=1e-05, momentum=0.1, affine=True, track_running_stats=False)\n",
            "            (conv2): Conv3d(32, 32, kernel_size=(3, 3, 3), stride=(1, 1, 1), padding=(1, 1, 1), bias=False)\n",
            "            (bn2): InstanceNorm3d(32, eps=1e-05, momentum=0.1, affine=True, track_running_stats=False)\n",
            "          )\n",
            "        )\n",
            "      )\n",
            "    )\n",
            "    (convs): ModuleList(\n",
            "      (0): Conv3d(320, 2, kernel_size=(1, 1, 1), stride=(1, 1, 1), bias=False)\n",
            "      (1): Conv3d(256, 2, kernel_size=(1, 1, 1), stride=(1, 1, 1), bias=False)\n",
            "      (2): Conv3d(128, 2, kernel_size=(1, 1, 1), stride=(1, 1, 1), bias=False)\n",
            "      (3): Conv3d(64, 2, kernel_size=(1, 1, 1), stride=(1, 1, 1), bias=False)\n",
            "      (4): Conv3d(32, 2, kernel_size=(1, 1, 1), stride=(1, 1, 1), bias=False)\n",
            "    )\n",
            "  )\n",
            ")\n",
            "Load model weights from /content/gdrive/MyDrive/biom3d_Franzi/logs/3less-sensitive20240321-020005-unet_default_fold0/model/unet_default_best.pth\n",
            "<All keys matched successfully>\n",
            "running prediction for image:  /content/gdrive/MyDrive/raw/Freddy/Spongy Mesophyll-25-04-14.lif_flattened/_Spongy Mesophyll-25-04-14 - Spongy Mesophyll MOCK- 001_FRAP Pb1 Series44_Channel_1_Time_1.tif\n"
          ]
        },
        {
          "output_type": "stream",
          "name": "stderr",
          "text": [
            "/usr/local/lib/python3.11/dist-packages/torch/utils/data/dataloader.py:624: UserWarning: This DataLoader will create 4 worker processes in total. Our suggested max number of worker in current system is 2, which is smaller than what this DataLoader is going to create. Please be aware that excessive worker creation might get DataLoader running slow or even freeze, lower the worker number to avoid potential slowness/freeze if necessary.\n",
            "  warnings.warn(\n"
          ]
        },
        {
          "output_type": "stream",
          "name": "stdout",
          "text": [
            "Input shape: (1, 13, 512, 512)\n",
            "Preprocessed shape: (1, 13, 512, 512)\n",
            "AMP enabled\n"
          ]
        },
        {
          "output_type": "stream",
          "name": "stderr",
          "text": [
            "100%|██████████| 16/16 [00:26<00:00,  1.67s/it]\n"
          ]
        },
        {
          "output_type": "stream",
          "name": "stdout",
          "text": [
            "Prediction done!\n",
            "Aggregation...\n",
            "Aggregation done!\n",
            "Model output shape: torch.Size([2, 13, 512, 512])\n",
            "Post-processing...\n",
            "Post-processing done!\n",
            "Output shape: (13, 512, 512)\n",
            "Saving images in /content/gdrive/MyDrive/predictions/FreddySponges/3less-sensitive20240321-020005-unet_default_fold0/_Spongy Mesophyll-25-04-14 - Spongy Mesophyll MOCK- 001_FRAP Pb1 Series44_Channel_1_Time_1.tif\n",
            "running prediction for image:  /content/gdrive/MyDrive/raw/Freddy/Spongy Mesophyll-25-04-14.lif_flattened/_Spongy Mesophyll-25-04-14 - Spongy Mesophyll MOCK- 001_FRAP Pb1 Series44_Channel_1_Time_10.tif\n",
            "Input shape: (1, 13, 512, 512)\n",
            "Preprocessed shape: (1, 13, 512, 512)\n",
            "AMP enabled\n"
          ]
        },
        {
          "output_type": "stream",
          "name": "stderr",
          "text": [
            "100%|██████████| 16/16 [00:27<00:00,  1.71s/it]\n"
          ]
        },
        {
          "output_type": "stream",
          "name": "stdout",
          "text": [
            "Prediction done!\n",
            "Aggregation...\n",
            "Aggregation done!\n",
            "Model output shape: torch.Size([2, 13, 512, 512])\n",
            "Post-processing...\n",
            "Post-processing done!\n",
            "Output shape: (13, 512, 512)\n",
            "Saving images in /content/gdrive/MyDrive/predictions/FreddySponges/3less-sensitive20240321-020005-unet_default_fold0/_Spongy Mesophyll-25-04-14 - Spongy Mesophyll MOCK- 001_FRAP Pb1 Series44_Channel_1_Time_10.tif\n",
            "running prediction for image:  /content/gdrive/MyDrive/raw/Freddy/Spongy Mesophyll-25-04-14.lif_flattened/_Spongy Mesophyll-25-04-14 - Spongy Mesophyll MOCK- 001_FRAP Pb1 Series44_Channel_1_Time_11.tif\n",
            "Input shape: (1, 13, 512, 512)\n",
            "Preprocessed shape: (1, 13, 512, 512)\n",
            "AMP enabled\n"
          ]
        },
        {
          "output_type": "stream",
          "name": "stderr",
          "text": [
            "100%|██████████| 16/16 [00:28<00:00,  1.79s/it]\n"
          ]
        },
        {
          "output_type": "stream",
          "name": "stdout",
          "text": [
            "Prediction done!\n",
            "Aggregation...\n",
            "Aggregation done!\n",
            "Model output shape: torch.Size([2, 13, 512, 512])\n",
            "Post-processing...\n",
            "Post-processing done!\n",
            "Output shape: (13, 512, 512)\n",
            "Saving images in /content/gdrive/MyDrive/predictions/FreddySponges/3less-sensitive20240321-020005-unet_default_fold0/_Spongy Mesophyll-25-04-14 - Spongy Mesophyll MOCK- 001_FRAP Pb1 Series44_Channel_1_Time_11.tif\n",
            "running prediction for image:  /content/gdrive/MyDrive/raw/Freddy/Spongy Mesophyll-25-04-14.lif_flattened/_Spongy Mesophyll-25-04-14 - Spongy Mesophyll MOCK- 001_FRAP Pb1 Series44_Channel_1_Time_12.tif\n",
            "Input shape: (1, 13, 512, 512)\n",
            "Preprocessed shape: (1, 13, 512, 512)\n",
            "AMP enabled\n"
          ]
        },
        {
          "output_type": "stream",
          "name": "stderr",
          "text": [
            "100%|██████████| 16/16 [00:28<00:00,  1.79s/it]\n"
          ]
        },
        {
          "output_type": "stream",
          "name": "stdout",
          "text": [
            "Prediction done!\n",
            "Aggregation...\n",
            "Aggregation done!\n",
            "Model output shape: torch.Size([2, 13, 512, 512])\n",
            "Post-processing...\n",
            "Post-processing done!\n",
            "Output shape: (13, 512, 512)\n",
            "Saving images in /content/gdrive/MyDrive/predictions/FreddySponges/3less-sensitive20240321-020005-unet_default_fold0/_Spongy Mesophyll-25-04-14 - Spongy Mesophyll MOCK- 001_FRAP Pb1 Series44_Channel_1_Time_12.tif\n",
            "running prediction for image:  /content/gdrive/MyDrive/raw/Freddy/Spongy Mesophyll-25-04-14.lif_flattened/_Spongy Mesophyll-25-04-14 - Spongy Mesophyll MOCK- 001_FRAP Pb1 Series44_Channel_1_Time_13.tif\n",
            "Input shape: (1, 13, 512, 512)\n",
            "Preprocessed shape: (1, 13, 512, 512)\n",
            "AMP enabled\n"
          ]
        },
        {
          "output_type": "stream",
          "name": "stderr",
          "text": [
            "100%|██████████| 16/16 [00:28<00:00,  1.76s/it]\n"
          ]
        },
        {
          "output_type": "stream",
          "name": "stdout",
          "text": [
            "Prediction done!\n",
            "Aggregation...\n",
            "Aggregation done!\n",
            "Model output shape: torch.Size([2, 13, 512, 512])\n",
            "Post-processing...\n",
            "Post-processing done!\n",
            "Output shape: (13, 512, 512)\n",
            "Saving images in /content/gdrive/MyDrive/predictions/FreddySponges/3less-sensitive20240321-020005-unet_default_fold0/_Spongy Mesophyll-25-04-14 - Spongy Mesophyll MOCK- 001_FRAP Pb1 Series44_Channel_1_Time_13.tif\n",
            "running prediction for image:  /content/gdrive/MyDrive/raw/Freddy/Spongy Mesophyll-25-04-14.lif_flattened/_Spongy Mesophyll-25-04-14 - Spongy Mesophyll MOCK- 001_FRAP Pb1 Series44_Channel_1_Time_14.tif\n",
            "Input shape: (1, 13, 512, 512)\n",
            "Preprocessed shape: (1, 13, 512, 512)\n",
            "AMP enabled\n"
          ]
        },
        {
          "output_type": "stream",
          "name": "stderr",
          "text": [
            "100%|██████████| 16/16 [00:28<00:00,  1.78s/it]\n"
          ]
        },
        {
          "output_type": "stream",
          "name": "stdout",
          "text": [
            "Prediction done!\n",
            "Aggregation...\n",
            "Aggregation done!\n",
            "Model output shape: torch.Size([2, 13, 512, 512])\n",
            "Post-processing...\n",
            "Post-processing done!\n",
            "Output shape: (13, 512, 512)\n",
            "Saving images in /content/gdrive/MyDrive/predictions/FreddySponges/3less-sensitive20240321-020005-unet_default_fold0/_Spongy Mesophyll-25-04-14 - Spongy Mesophyll MOCK- 001_FRAP Pb1 Series44_Channel_1_Time_14.tif\n",
            "running prediction for image:  /content/gdrive/MyDrive/raw/Freddy/Spongy Mesophyll-25-04-14.lif_flattened/_Spongy Mesophyll-25-04-14 - Spongy Mesophyll MOCK- 001_FRAP Pb1 Series44_Channel_1_Time_15.tif\n",
            "Input shape: (1, 13, 512, 512)\n",
            "Preprocessed shape: (1, 13, 512, 512)\n",
            "AMP enabled\n"
          ]
        },
        {
          "output_type": "stream",
          "name": "stderr",
          "text": [
            "100%|██████████| 16/16 [00:28<00:00,  1.78s/it]\n"
          ]
        },
        {
          "output_type": "stream",
          "name": "stdout",
          "text": [
            "Prediction done!\n",
            "Aggregation...\n",
            "Aggregation done!\n",
            "Model output shape: torch.Size([2, 13, 512, 512])\n",
            "Post-processing...\n",
            "Post-processing done!\n",
            "Output shape: (13, 512, 512)\n",
            "Saving images in /content/gdrive/MyDrive/predictions/FreddySponges/3less-sensitive20240321-020005-unet_default_fold0/_Spongy Mesophyll-25-04-14 - Spongy Mesophyll MOCK- 001_FRAP Pb1 Series44_Channel_1_Time_15.tif\n",
            "running prediction for image:  /content/gdrive/MyDrive/raw/Freddy/Spongy Mesophyll-25-04-14.lif_flattened/_Spongy Mesophyll-25-04-14 - Spongy Mesophyll MOCK- 001_FRAP Pb1 Series44_Channel_1_Time_16.tif\n",
            "Input shape: (1, 13, 512, 512)\n",
            "Preprocessed shape: (1, 13, 512, 512)\n",
            "AMP enabled\n"
          ]
        },
        {
          "output_type": "stream",
          "name": "stderr",
          "text": [
            "100%|██████████| 16/16 [00:28<00:00,  1.78s/it]\n"
          ]
        },
        {
          "output_type": "stream",
          "name": "stdout",
          "text": [
            "Prediction done!\n",
            "Aggregation...\n",
            "Aggregation done!\n",
            "Model output shape: torch.Size([2, 13, 512, 512])\n",
            "Post-processing...\n",
            "Post-processing done!\n",
            "Output shape: (13, 512, 512)\n",
            "Saving images in /content/gdrive/MyDrive/predictions/FreddySponges/3less-sensitive20240321-020005-unet_default_fold0/_Spongy Mesophyll-25-04-14 - Spongy Mesophyll MOCK- 001_FRAP Pb1 Series44_Channel_1_Time_16.tif\n",
            "running prediction for image:  /content/gdrive/MyDrive/raw/Freddy/Spongy Mesophyll-25-04-14.lif_flattened/_Spongy Mesophyll-25-04-14 - Spongy Mesophyll MOCK- 001_FRAP Pb1 Series44_Channel_1_Time_17.tif\n",
            "Input shape: (1, 13, 512, 512)\n",
            "Preprocessed shape: (1, 13, 512, 512)\n",
            "AMP enabled\n"
          ]
        },
        {
          "output_type": "stream",
          "name": "stderr",
          "text": [
            "100%|██████████| 16/16 [00:28<00:00,  1.80s/it]\n"
          ]
        },
        {
          "output_type": "stream",
          "name": "stdout",
          "text": [
            "Prediction done!\n",
            "Aggregation...\n",
            "Aggregation done!\n",
            "Model output shape: torch.Size([2, 13, 512, 512])\n",
            "Post-processing...\n",
            "Post-processing done!\n",
            "Output shape: (13, 512, 512)\n",
            "Saving images in /content/gdrive/MyDrive/predictions/FreddySponges/3less-sensitive20240321-020005-unet_default_fold0/_Spongy Mesophyll-25-04-14 - Spongy Mesophyll MOCK- 001_FRAP Pb1 Series44_Channel_1_Time_17.tif\n",
            "running prediction for image:  /content/gdrive/MyDrive/raw/Freddy/Spongy Mesophyll-25-04-14.lif_flattened/_Spongy Mesophyll-25-04-14 - Spongy Mesophyll MOCK- 001_FRAP Pb1 Series44_Channel_1_Time_18.tif\n",
            "Input shape: (1, 13, 512, 512)\n",
            "Preprocessed shape: (1, 13, 512, 512)\n",
            "AMP enabled\n"
          ]
        },
        {
          "output_type": "stream",
          "name": "stderr",
          "text": [
            "100%|██████████| 16/16 [00:28<00:00,  1.78s/it]\n"
          ]
        },
        {
          "output_type": "stream",
          "name": "stdout",
          "text": [
            "Prediction done!\n",
            "Aggregation...\n",
            "Aggregation done!\n",
            "Model output shape: torch.Size([2, 13, 512, 512])\n",
            "Post-processing...\n",
            "Post-processing done!\n",
            "Output shape: (13, 512, 512)\n",
            "Saving images in /content/gdrive/MyDrive/predictions/FreddySponges/3less-sensitive20240321-020005-unet_default_fold0/_Spongy Mesophyll-25-04-14 - Spongy Mesophyll MOCK- 001_FRAP Pb1 Series44_Channel_1_Time_18.tif\n",
            "running prediction for image:  /content/gdrive/MyDrive/raw/Freddy/Spongy Mesophyll-25-04-14.lif_flattened/_Spongy Mesophyll-25-04-14 - Spongy Mesophyll MOCK- 001_FRAP Pb1 Series44_Channel_1_Time_19.tif\n",
            "Input shape: (1, 13, 512, 512)\n",
            "Preprocessed shape: (1, 13, 512, 512)\n",
            "AMP enabled\n"
          ]
        },
        {
          "output_type": "stream",
          "name": "stderr",
          "text": [
            "100%|██████████| 16/16 [00:28<00:00,  1.77s/it]\n"
          ]
        },
        {
          "output_type": "stream",
          "name": "stdout",
          "text": [
            "Prediction done!\n",
            "Aggregation...\n",
            "Aggregation done!\n",
            "Model output shape: torch.Size([2, 13, 512, 512])\n",
            "Post-processing...\n",
            "Post-processing done!\n",
            "Output shape: (13, 512, 512)\n",
            "Saving images in /content/gdrive/MyDrive/predictions/FreddySponges/3less-sensitive20240321-020005-unet_default_fold0/_Spongy Mesophyll-25-04-14 - Spongy Mesophyll MOCK- 001_FRAP Pb1 Series44_Channel_1_Time_19.tif\n",
            "running prediction for image:  /content/gdrive/MyDrive/raw/Freddy/Spongy Mesophyll-25-04-14.lif_flattened/_Spongy Mesophyll-25-04-14 - Spongy Mesophyll MOCK- 001_FRAP Pb1 Series44_Channel_1_Time_2.tif\n",
            "Input shape: (1, 13, 512, 512)\n",
            "Preprocessed shape: (1, 13, 512, 512)\n",
            "AMP enabled\n"
          ]
        },
        {
          "output_type": "stream",
          "name": "stderr",
          "text": [
            "100%|██████████| 16/16 [00:28<00:00,  1.78s/it]\n"
          ]
        },
        {
          "output_type": "stream",
          "name": "stdout",
          "text": [
            "Prediction done!\n",
            "Aggregation...\n",
            "Aggregation done!\n",
            "Model output shape: torch.Size([2, 13, 512, 512])\n",
            "Post-processing...\n",
            "Post-processing done!\n",
            "Output shape: (13, 512, 512)\n",
            "Saving images in /content/gdrive/MyDrive/predictions/FreddySponges/3less-sensitive20240321-020005-unet_default_fold0/_Spongy Mesophyll-25-04-14 - Spongy Mesophyll MOCK- 001_FRAP Pb1 Series44_Channel_1_Time_2.tif\n",
            "running prediction for image:  /content/gdrive/MyDrive/raw/Freddy/Spongy Mesophyll-25-04-14.lif_flattened/_Spongy Mesophyll-25-04-14 - Spongy Mesophyll MOCK- 001_FRAP Pb1 Series44_Channel_1_Time_20.tif\n",
            "Input shape: (1, 13, 512, 512)\n",
            "Preprocessed shape: (1, 13, 512, 512)\n",
            "AMP enabled\n"
          ]
        },
        {
          "output_type": "stream",
          "name": "stderr",
          "text": [
            "100%|██████████| 16/16 [00:28<00:00,  1.78s/it]\n"
          ]
        },
        {
          "output_type": "stream",
          "name": "stdout",
          "text": [
            "Prediction done!\n",
            "Aggregation...\n",
            "Aggregation done!\n",
            "Model output shape: torch.Size([2, 13, 512, 512])\n",
            "Post-processing...\n",
            "Post-processing done!\n",
            "Output shape: (13, 512, 512)\n",
            "Saving images in /content/gdrive/MyDrive/predictions/FreddySponges/3less-sensitive20240321-020005-unet_default_fold0/_Spongy Mesophyll-25-04-14 - Spongy Mesophyll MOCK- 001_FRAP Pb1 Series44_Channel_1_Time_20.tif\n",
            "running prediction for image:  /content/gdrive/MyDrive/raw/Freddy/Spongy Mesophyll-25-04-14.lif_flattened/_Spongy Mesophyll-25-04-14 - Spongy Mesophyll MOCK- 001_FRAP Pb1 Series44_Channel_1_Time_21.tif\n",
            "Input shape: (1, 13, 512, 512)\n",
            "Preprocessed shape: (1, 13, 512, 512)\n",
            "AMP enabled\n"
          ]
        },
        {
          "output_type": "stream",
          "name": "stderr",
          "text": [
            " 25%|██▌       | 4/16 [00:07<00:22,  1.84s/it]"
          ]
        }
      ],
      "source": [
        "#@markdown ## Make predictions with your trained model\n",
        "\n",
        "#@markdown **Path to the model folder: leave it empty if you want to use the model obtained during the previous training step.** This should look like `/content/gdrive/MyDrive/biom3d/logs/20230602-162331-unet_default_fold0`.\n",
        "\n",
        "custom_log_path = \"/content/gdrive/MyDrive/biom3d_Franzi/logs/3less-sensitive20240321-020005-unet_default_fold0\" #@param {type:\"string\"}\n",
        "\n",
        "if len(custom_log_path) > 0:\n",
        "  log=custom_log_path\n",
        "else:\n",
        "  assert 'builder' in locals().keys(), \"No existing model folder found. Please complete the `custom_log_path` field or train a model.\"\n",
        "  log = builder.base_dir\n",
        "\n",
        "#@markdown **Prediction input directory:**\n",
        "pred_dir_in = \"/content/gdrive/MyDrive/raw/Freddy/Spongy Mesophyll-25-04-14.lif_flattened\" #@param {type:\"string\"}\n",
        "\n",
        "#@markdown **Prediction output directory:** (where the prediction masks will be stored)\n",
        "pred_dir_out = \"/content/gdrive/MyDrive/predictions/FreddySponges\"#@param {type:\"string\"}\n",
        "\n",
        "dir_out = pred(\n",
        "    log=log,\n",
        "    dir_in=pred_dir_in,\n",
        "    dir_out=pred_dir_out\n",
        "    )\n"
      ]
    },
    {
      "cell_type": "code",
      "execution_count": null,
      "metadata": {
        "cellView": "form",
        "id": "8l8FPDb_13iI"
      },
      "outputs": [],
      "source": [
        "#@markdown ## Evaluate your model on a test set\n",
        "\n",
        "#@markdown **Prediction output directory:** where the previous prediction masks have been stored and the number of classes in your images. Leave the default values if you want to use the previous prediction path.\n",
        "new_pred_dir_out = \"\"#@param {type:\"string\"}\n",
        "new_num_classes = 0 #@param {type:\"number\"}\n",
        "\n",
        "if new_num_classes == 0:\n",
        "  assert 'num_classes' in locals().keys(), \"Number of classes equal to zero and the previous number of classes does not exist. Please provide one.\"\n",
        "  new_num_classes = num_classes\n",
        "\n",
        "if len(new_pred_dir_out) == 0:\n",
        "  assert len(dir_out) > 0, \"Prediction path seems to be empty and no previous path detected.\"\n",
        "  new_pred_dir_out = dir_out\n",
        "\n",
        "#@markdown **Path to test masks** The test masks must correspond to the predictions.\n",
        "test_msk_dir = \"\" #@param {type:\"string\"}\n",
        "\n",
        "eval(\n",
        "    dir_lab=test_msk_dir,\n",
        "    dir_out=new_pred_dir_out,\n",
        "    num_classes=new_num_classes\n",
        ")"
      ]
    }
  ],
  "metadata": {
    "accelerator": "GPU",
    "colab": {
      "gpuType": "T4",
      "provenance": [],
      "include_colab_link": true
    },
    "kernelspec": {
      "display_name": "Python 3 (ipykernel)",
      "language": "python",
      "name": "python3"
    },
    "language_info": {
      "codemirror_mode": {
        "name": "ipython",
        "version": 3
      },
      "file_extension": ".py",
      "mimetype": "text/x-python",
      "name": "python",
      "nbconvert_exporter": "python",
      "pygments_lexer": "ipython3",
      "version": "3.12.2"
    }
  },
  "nbformat": 4,
  "nbformat_minor": 0
}